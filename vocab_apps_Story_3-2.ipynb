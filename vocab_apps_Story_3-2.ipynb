{
  "nbformat": 4,
  "nbformat_minor": 0,
  "metadata": {
    "colab": {
      "provenance": [],
      "authorship_tag": "ABX9TyMDFQmN4Uvx95NOtqenBD8p",
      "include_colab_link": true
    },
    "kernelspec": {
      "name": "python3",
      "display_name": "Python 3"
    },
    "language_info": {
      "name": "python"
    }
  },
  "cells": [
    {
      "cell_type": "markdown",
      "metadata": {
        "id": "view-in-github",
        "colab_type": "text"
      },
      "source": [
        "<a href=\"https://colab.research.google.com/github/bori0824/BwithB/blob/main/vocab_apps_Story_3-2.ipynb\" target=\"_parent\"><img src=\"https://colab.research.google.com/assets/colab-badge.svg\" alt=\"Open In Colab\"/></a>"
      ]
    },
    {
      "cell_type": "markdown",
      "source": [],
      "metadata": {
        "id": "K5vewu_ysk4w"
      }
    },
    {
      "cell_type": "markdown",
      "source": [
        "### (Pre-R.) Vocabulary Flashcards"
      ],
      "metadata": {
        "id": "qcxN6wZbsack"
      }
    },
    {
      "cell_type": "code",
      "source": [
        "import random\n",
        "\n",
        "vocab = {\n",
        "    'quaint': 'charmingly old-fashioned',\n",
        "    'lush': 'growing thickly and healthily',\n",
        "    'peddler': 'a person who goes from place to place selling small goods',\n",
        "    'skeptical': 'not easily convinced; having doubts',\n",
        "    'diligently': 'in a way that shows care and conscientiousness in one’s work or duties',\n",
        "    'prosper': 'to succeed in material terms; be financially successful'\n",
        "    # Add more vocabulary words and definitions as needed\n",
        "}\n",
        "\n",
        "words = list(vocab.keys())\n",
        "random.shuffle(words)\n",
        "\n",
        "for word in words:\n",
        "    input(f\"What does '{word}' mean? Press Enter to see the definition.\")\n",
        "    print(f\"Definition: {vocab[word]}\\n\")"
      ],
      "metadata": {
        "id": "0fr1LjJQuvtX"
      },
      "execution_count": null,
      "outputs": []
    },
    {
      "cell_type": "code",
      "source": [
        "import random\n",
        "\n",
        "Definition = {\n",
        "    'charmingly old-fashioned' : 'quaint',\n",
        "    'growing thickly and healthily' : 'lush',\n",
        "    'a person who goes from place to place selling small goods' :  'peddler',\n",
        "    'not easily convinced; having doubts' : 'skeptical',\n",
        "    'in a way that shows care and conscientiousness in one’s work or duties' :  'diligently',\n",
        "    'to succeed in material terms; be financially successful' : 'prosper'\n",
        "  # Add more definitions and vocabulary words as needed\n",
        "}\n",
        "\n",
        "words = list(vocab.keys())\n",
        "random.shuffle(definition)\n",
        "\n",
        "for word in words:\n",
        "    input(f\"What does '{Definition}' stand for? Press Enter to see the word.\")\n",
        "    print(f\"Definition: {vocab[word]}\\n\")\n"
      ],
      "metadata": {
        "id": "2SCtGYgIrC83"
      },
      "execution_count": null,
      "outputs": []
    },
    {
      "cell_type": "code",
      "source": [
        "import random\n",
        "\n",
        "# Create a dictionary with the definitions\n",
        "definition = vocab.copy()\n",
        "\n",
        "Definition = {\n",
        "    'charmingly old-fashioned' : 'quaint',\n",
        "    'growing thickly and healthily' : 'lush',\n",
        "    'a person who goes from place to place selling small goods' :  'peddler',\n",
        "    'not easily convinced; having doubts' : 'skeptical',\n",
        "    'in a way that shows care and conscientiousness in one’s work or duties' :  'diligently',\n",
        "    'to succeed in material terms; be financially successful' : 'prosper'\n",
        "  # Add more definitions and vocabulary words as needed\n",
        "}\n",
        "# Get the keys of the dictionary as a list\n",
        "words = list(vocab.keys())\n",
        "\n",
        "# Shuffle the list of words\n",
        "random.shuffle(words)\n",
        "\n",
        "# Loop through the words and ask for the definition\n",
        "for word in words:\n",
        "    input(f\"What does '{word}' mean? Press Enter to see the definition.\")\n",
        "    print(f\"Definition: {definition[word]}\\n\")"
      ],
      "metadata": {
        "id": "GW8evJlisRMn"
      },
      "execution_count": null,
      "outputs": []
    },
    {
      "cell_type": "markdown",
      "source": [],
      "metadata": {
        "id": "fL-zqv5tuqbv"
      }
    },
    {
      "cell_type": "markdown",
      "source": [
        "### optional\n",
        "(Pre-R.) Word Search Puzzle Generator"
      ],
      "metadata": {
        "id": "-uFeKt7gspzc"
      }
    },
    {
      "cell_type": "code",
      "source": [
        "!pip install word-search-generator\n",
        "\n",
        "from word_search_generator import WordSearch\n",
        "\n",
        "words = ['skeptical', 'quaint', 'prosper']\n",
        "ws = WordSearch(words, width=15, height=15)\n",
        "ws.generate()\n",
        "print(ws)"
      ],
      "metadata": {
        "id": "ORVFRwzGtANQ"
      },
      "execution_count": null,
      "outputs": []
    },
    {
      "cell_type": "markdown",
      "source": [
        "### (R.) Interactive Text Reader"
      ],
      "metadata": {
        "id": "UVo2krvNtHLO"
      }
    },
    {
      "cell_type": "code",
      "source": [
        "import ipywidgets as widgets\n",
        "from IPython.display import display, HTML\n",
        "\n",
        "text = \"\"\"Once in a quaint village nestled among rolling hills and lush fields, there lived a young boy named Tom. Tom loved exploring the outdoors and helping his parents in their small garden. However, the soil in their garden was tough and dry, making it difficult to grow more than a few hardy vegetables each year.\n",
        "One sunny morning, while Tom was playing near the village square, a cheerful peddler rolled into town with a cart full of wondrous items. He had pots and pans, cloths and toys, but what caught Tom's eye were the small packets of seeds tied with colorful ribbons.\n",
        "Curious, Tom approached the peddler and asked about the seeds. The peddler, a kind man with a wide smile, leaned down and whispered, 'These, my young friend, are magic seeds. Plant them, care for them, and you'll see how special they are!' Excited, Tom used his saved coins to buy a packet. He rushed home and showed his parents, who helped him plant the seeds in a small corner of their garden. Though skeptical, they supported Tom's enthusiasm.\n",
        "Days turned into weeks, and slowly, sprouts emerged. These weren't ordinary sprouts; they grew quickly and vibrantly, even in the tough soil of their garden. Tom took care of them diligently, watering and weeding with great care.\n",
        "By the end of the season, the garden was transformed. The plants from the magic seeds grew into tall, lush vegetables and beautiful flowers that were unlike anything the villagers had ever seen. The colors were brighter, and the smells were sweeter than any other plants in the village.\n",
        "News of Tom's magical garden spread, and soon people from nearby towns came to see it. They marveled at how the peddler's seeds could prosper in such stubborn soil. Tom and his family generously shared the seeds with their neighbors, teaching them how to care for them.\n",
        "The garden brought the community together, with everyone sharing tips, seeds, and the fruits of their labor. Tom’s family's garden became a symbol of hope and joy in the village.\n",
        "Years later, Tom, inspired by the peddler, decided to become a peddler himself. He traveled from village to village, selling goods and, most importantly, magic seeds. With each packet of seeds he sold, Tom shared a piece of the joy and wonder he had experienced as a boy.\n",
        "Tom's simple act of buying seeds from a peddler not only changed his life but also brought beauty and unity to many others. The story of the peddler and the magic seeds became a beloved tale in every place Tom visited, reminding people everywhere of the magic that can grow from small beginnings and the importance of sharing and community.\"\"\"\n",
        "\n",
        "vocab = {\n",
        "    'quaint': 'charmingly old-fashioned',\n",
        "    'lush': 'growing thickly and healthily',\n",
        "    'peddler': 'a person who goes from place to place selling small goods',\n",
        "    'skeptical': 'not easily convinced; having doubts',\n",
        "    'diligently': 'in a way that shows care and conscientiousness in one’s work or duties',\n",
        "    'prosper': 'to succeed in material terms; be financially successful'\n",
        "    # Add more vocabulary words and definitions as needed\n",
        "}\n",
        "\n",
        "def on_click(word):\n",
        "    def callback(b):\n",
        "        print(f\"Definition: {vocab.get(word.strip('.,'), 'Word not found')}\")\n",
        "    return callback\n",
        "\n",
        "for word in text.split():\n",
        "    word_button = widgets.Button(description=word)\n",
        "    word_button.on_click(on_click(word))\n",
        "    display(word_button)"
      ],
      "metadata": {
        "id": "gLEK__nzvF1c"
      },
      "execution_count": null,
      "outputs": []
    },
    {
      "cell_type": "markdown",
      "source": [
        "### (Post-R.) Comprehension Quiz"
      ],
      "metadata": {
        "id": "9Z5lTJcvte4-"
      }
    },
    {
      "cell_type": "code",
      "source": [
        "questions = [\n",
        "    {\n",
        "        'question': 'What did Tom buy from the peddler?',\n",
        "        'options': ['a) Pots and pans', 'b) Toys', 'c) Magic seeds'],\n",
        "        'answer': 'c) Magic seeds'\n",
        "    },\n",
        "    {\n",
        "        'question': 'How did the seeds transform the garden?',\n",
        "        'options': ['a) The soil became softer', 'b) They grew into tall, lush vegetables and flowers', 'c) The garden remained the same'],\n",
        "        'answer': 'b) They grew into tall, lush vegetables and flowers'\n",
        "    },\n",
        "    {\n",
        "        'question': 'What did Tom decide to do years later?',\n",
        "        'options': ['a) Become a farmer', 'b) Become a peddler', 'c) Move to a city'],\n",
        "        'answer': 'b) Become a peddler'\n",
        "    }\n",
        "]\n",
        "\n",
        "score = 0\n",
        "\n",
        "for q in questions:\n",
        "    print(q['question'])\n",
        "    for option in q['options']:\n",
        "        print(option)\n",
        "    answer = input(\"Choose the correct answer: \")\n",
        "    if answer == q['answer']:\n",
        "        score += 1\n",
        "        print(\"Correct!\")\n",
        "    else:\n",
        "        print(f\"Incorrect. The correct answer is {q['answer']}\")\n",
        "    print()\n",
        "\n",
        "print(f\"Your final score is {score}/{len(questions)}\")"
      ],
      "metadata": {
        "id": "aLVVYjR0vzDo"
      },
      "execution_count": null,
      "outputs": []
    },
    {
      "cell_type": "markdown",
      "source": [
        "### (Post-R.) Summary Writing with Key Phrases"
      ],
      "metadata": {
        "id": "eaydenSVtr2y"
      }
    },
    {
      "cell_type": "code",
      "source": [
        "key_phrases = [\n",
        "    'quaint village',\n",
        "    'magic seeds',\n",
        "    'skeptical parents',\n",
        "    'transform the garden',\n",
        "    'community together',\n",
        "    'symbol of hope'\n",
        "]\n",
        "\n",
        "print(\"Write a summary using the following key phrases:\")\n",
        "for phrase in key_phrases:\n",
        "    print(f\"- {phrase}\")\n",
        "\n",
        "summary = input(\"Enter your summary: \")\n",
        "print(\"Your summary: \", summary)"
      ],
      "metadata": {
        "id": "2VXdZQwyv64J"
      },
      "execution_count": null,
      "outputs": []
    },
    {
      "cell_type": "markdown",
      "source": [
        "## (R.) Story Summary Generator"
      ],
      "metadata": {
        "id": "q5HXcQHPWLhh"
      }
    },
    {
      "cell_type": "code",
      "source": [
        "!pip install transformers gradio\n",
        "\n",
        "from transformers import pipeline\n",
        "import gradio as gr\n",
        "\n",
        "# Load the summarization pipeline\n",
        "summarizer = pipeline(\"summarization\")\n",
        "\n",
        "# Function to generate summary\n",
        "def summarize_text(text):\n",
        "    summary = summarizer(text, max_length=50, min_length=25, do_sample=False)\n",
        "    return summary[0]['summary_text']\n",
        "\n",
        "# Create the Gradio interface\n",
        "input_text = gr.inputs.Textbox(lines=10, label=\"Enter the story text\")\n",
        "output_text = gr.outputs.Textbox(label=\"Summary\")\n",
        "\n",
        "gr.Interface(fn=summarize_text, inputs=input_text, outputs=output_text, live=True).launch()"
      ],
      "metadata": {
        "id": "iSBEsaEuWNiC"
      },
      "execution_count": null,
      "outputs": []
    },
    {
      "cell_type": "markdown",
      "source": [
        "## (R.) Interactive Comprehension Quiz"
      ],
      "metadata": {
        "id": "JiHU6Fr4WWHJ"
      }
    },
    {
      "cell_type": "code",
      "source": [
        "!pip install transformers gradio\n",
        "\n",
        "from transformers import pipeline\n",
        "import gradio as gr\n",
        "\n",
        "# Load the summarization pipeline\n",
        "summarizer = pipeline(\"summarization\")\n",
        "\n",
        "# Function to generate summary\n",
        "def summarize_text(text):\n",
        "    summary = summarizer(text, max_length=50, min_length=25, do_sample=False)\n",
        "    return summary[0]['summary_text']\n",
        "\n",
        "# Create the Gradio interface\n",
        "input_text = gr.inputs.Textbox(lines=10, label=\"Enter the story text\")\n",
        "output_text = gr.outputs.Textbox(label=\"Summary\")\n",
        "\n",
        "gr.Interface(fn=summarize_text, inputs=input_text, outputs=output_text, live=True).launch()"
      ],
      "metadata": {
        "id": "H3IdNjL-WdJa"
      },
      "execution_count": null,
      "outputs": []
    }
  ]
}